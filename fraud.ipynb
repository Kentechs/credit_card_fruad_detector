{
 "cells": [
  {
   "cell_type": "markdown",
   "metadata": {
    "tags": []
   },
   "source": [
    "## Credit Card Fraud Detection System\n",
    "Using python 3 environment to predict fraud in credit card dataset. From this link https://www.kaggle.com/datasets/mlg-ulb/creditcardfraud Speaking about the dataset.\n",
    "In summary, The context of this analysis is to be able to identify and eliminate fraudulent credit card activities when people purchase goods online usin their credit card, through the analysis and deployment of this project, companies can be able to detect fraudulent transactions just so that customers are not charged for goods they did not purchase."
   ]
  },
  {
   "cell_type": "code",
   "execution_count": 1,
   "metadata": {},
   "outputs": [],
   "source": [
    "### Import libraries\n",
    "import numpy as np    ### Dealing with arrays\n",
    "import pandas as pd  ### Dealing with dataframes\n",
    "import seaborn as sns  ### Plotting\n",
    "import matplotlib.pyplot as plt  ###plotting\n",
    "from sklearn.model_selection import cross_validate  ### Cross validate \n",
    "from sklearn.model_selection import GridSearchCV\n",
    "from sklearn.model_selection import train_test_split\n",
    "from sklearn.metrics import accuracy_score\n",
    "from sklearn.metrics import confusion_matrix\n",
    "from sklearn.metrics import ConfusionMatrixDisplay\n",
    "from sklearn.tree import DecisionTreeClassifier\n",
    "from sklearn.linear_model import LogisticRegression\n",
    "from imblearn.over_sampling import SMOTE\n",
    "from imblearn.under_sampling import RandomUnderSampler\n",
    "from imblearn.pipeline import Pipeline\n",
    "from collections import Counter"
   ]
  },
  {
   "cell_type": "code",
   "execution_count": 2,
   "metadata": {},
   "outputs": [
    {
     "name": "stdout",
     "output_type": "stream",
     "text": [
      "<class 'pandas.core.frame.DataFrame'>\n",
      "RangeIndex: 284807 entries, 0 to 284806\n",
      "Data columns (total 31 columns):\n",
      " #   Column  Non-Null Count   Dtype  \n",
      "---  ------  --------------   -----  \n",
      " 0   Time    284807 non-null  float64\n",
      " 1   V1      284807 non-null  float64\n",
      " 2   V2      284807 non-null  float64\n",
      " 3   V3      284807 non-null  float64\n",
      " 4   V4      284807 non-null  float64\n",
      " 5   V5      284807 non-null  float64\n",
      " 6   V6      284807 non-null  float64\n",
      " 7   V7      284807 non-null  float64\n",
      " 8   V8      284807 non-null  float64\n",
      " 9   V9      284807 non-null  float64\n",
      " 10  V10     284807 non-null  float64\n",
      " 11  V11     284807 non-null  float64\n",
      " 12  V12     284807 non-null  float64\n",
      " 13  V13     284807 non-null  float64\n",
      " 14  V14     284807 non-null  float64\n",
      " 15  V15     284807 non-null  float64\n",
      " 16  V16     284807 non-null  float64\n",
      " 17  V17     284807 non-null  float64\n",
      " 18  V18     284807 non-null  float64\n",
      " 19  V19     284807 non-null  float64\n",
      " 20  V20     284807 non-null  float64\n",
      " 21  V21     284807 non-null  float64\n",
      " 22  V22     284807 non-null  float64\n",
      " 23  V23     284807 non-null  float64\n",
      " 24  V24     284807 non-null  float64\n",
      " 25  V25     284807 non-null  float64\n",
      " 26  V26     284807 non-null  float64\n",
      " 27  V27     284807 non-null  float64\n",
      " 28  V28     284807 non-null  float64\n",
      " 29  Amount  284807 non-null  float64\n",
      " 30  Class   284807 non-null  int64  \n",
      "dtypes: float64(30), int64(1)\n",
      "memory usage: 67.4 MB\n"
     ]
    }
   ],
   "source": [
    "## Import Dataset\n",
    "credit_data = pd.read_csv(\"creditcard.csv\")\n",
    "credit_data.info()"
   ]
  },
  {
   "cell_type": "code",
   "execution_count": 11,
   "metadata": {},
   "outputs": [
    {
     "data": {
      "text/plain": [
       "(284807, 31)"
      ]
     },
     "execution_count": 11,
     "metadata": {},
     "output_type": "execute_result"
    }
   ],
   "source": [
    "# Assuming you have a dataset loaded in credit_data\n",
    "\n",
    "# Separating features and target\n",
    "features = credit_data.drop('Class', axis=1)  # Assuming 'Class' is the target column\n",
    "target = credit_data['Class']\n",
    "\n",
    "# Apply SMOTE for balancing the dataset\n",
    "smote = SMOTE(random_state=42)\n",
    "features_sm, target_sm = smote.fit_resample(features, target)\n",
    "\n",
    "credit_data.shape\n"
   ]
  },
  {
   "cell_type": "markdown",
   "metadata": {},
   "source": [
    "#### Dataset content\n",
    "This dataset has *284807* rows with *31* columns. The dataset contains transactions made by credit cards in September 2013 by some European Cardholders. This dataset contains transactions that happened in 2 days and contains about 492 frauds out of 284807 transactions. This dataset is extremely biased accounting for just *0.172%* of the dataset being positive.\n",
    "This dataset contains only numerical input variables which are results of a PCA transformation of the original dataset. For confidentiality purposes, the original dataset is not available online. The features **Time** and **Amount** are the only features which have not be transformed by PCA with time describing the time the transaction happened, and amount describing the amount spent on the item bought. The feature **Class** explains the target variable describing whether a transaction was flagged as fraud or not using binary representations *(0 and 1)*"
   ]
  },
  {
   "cell_type": "code",
   "execution_count": 4,
   "metadata": {},
   "outputs": [
    {
     "name": "stdout",
     "output_type": "stream",
     "text": [
      "SHAPE:  (284807, 31)\n",
      "FEATURES:  Index(['Time', 'V1', 'V2', 'V3', 'V4', 'V5', 'V6', 'V7', 'V8', 'V9', 'V10',\n",
      "       'V11', 'V12', 'V13', 'V14', 'V15', 'V16', 'V17', 'V18', 'V19', 'V20',\n",
      "       'V21', 'V22', 'V23', 'V24', 'V25', 'V26', 'V27', 'V28', 'Amount'],\n",
      "      dtype='object')\n",
      "TARGET:  Class\n"
     ]
    }
   ],
   "source": [
    "def dataset_information(dataset):\n",
    "    \n",
    "    print(\"SHAPE: \",np.shape(np.array(dataset)))\n",
    "    print(\"FEATURES: \",dataset.columns[:-1])\n",
    "    print(\"TARGET: \",dataset.columns[-1])\n",
    "\n",
    "dataset_information(credit_data)"
   ]
  },
  {
   "cell_type": "code",
   "execution_count": 5,
   "metadata": {},
   "outputs": [
    {
     "data": {
      "image/png": "[encoded data removed]",
      "text/plain": [
       "<Figure size 600x600 with 1 Axes>"
      ]
     },
     "metadata": {},
     "output_type": "display_data"
    }
   ],
   "source": [
    "### Visualize our dataset\n",
    "plt.figure(figsize=(6,6))\n",
    "sns.countplot(x=credit_data[\"Class\"])\n",
    "plt.show()"
   ]
  },
  {
   "cell_type": "markdown",
   "metadata": {},
   "source": [
    "# Define features and target\n",
    "features = credit_data.drop('Class', axis=1)\n",
    "target = credit_data['Class']\n",
    "\n",
    "# Apply SMOTE for resampling\n",
    "smote = SMOTE(random_state=42)\n",
    "features_sm, target_sm = smote.fit_resample(features, target)\n",
    "\n",
    "# Now split the dataset\n",
    "features_train, features_test, target_train, target_test = train_test_split(features_sm, target_sm, test_size=0.2, random_state=42)\n",
    "\n",
    "# Fitting the Logistic Regression model\n",
    "logistic_reg = LogisticRegression(max_iter=1000)\n",
    "fitted_log_model = logistic_reg.fit(features_train, target_train)\n",
    "log_predictions = fitted_log_model.predict(features_test)\n",
    "\n",
    "# Evaluating the model\n",
    "print(confusion_matrix(target_test, log_predictions))\n",
    "print(accuracy_score(target_test, log_predictions))\n"
   ]
  },
  {
   "cell_type": "markdown",
   "metadata": {},
   "source": [
    "#### Model Fitting and Selection Decision Tree & Logistics Regression\n",
    "__Decision Tree__:\n",
    "This is a popular machine learning algorithm for predicting outcomes, It uses tree based structures by finding out or generating the optimal predictors to solve the problem.\n",
    "\n",
    "__Logistic Regression__:\n",
    "According to statistics solution, a logistic regression is a kind of regression to conduct when the outcome variable is binary(of two different classes). Logistics regression is used to describe and explain the relationship between a dependent target binary variable with one or more independent feature variables."
   ]
  },
  {
   "cell_type": "code",
   "execution_count": 6,
   "metadata": {},
   "outputs": [
    {
     "name": "stdout",
     "output_type": "stream",
     "text": [
      "[[55930   986]\n",
      " [ 1970 54840]]\n",
      "0.9740077027240912\n"
     ]
    },
    {
     "name": "stderr",
     "output_type": "stream",
     "text": [
      "/home/dvooskid/anaconda3/lib/python3.10/site-packages/sklearn/linear_model/_logistic.py:469: ConvergenceWarning: lbfgs failed to converge (status=1):\n",
      "STOP: TOTAL NO. of ITERATIONS REACHED LIMIT.\n",
      "\n",
      "Increase the number of iterations (max_iter) or scale the data as shown in:\n",
      "    https://scikit-learn.org/stable/modules/preprocessing.html\n",
      "Please also refer to the documentation for alternative solver options:\n",
      "    https://scikit-learn.org/stable/modules/linear_model.html#logistic-regression\n",
      "  n_iter_i = _check_optimize_result(\n"
     ]
    }
   ],
   "source": [
    "\n",
    "## First we split our dataset into train and test dataset, \n",
    "# our training dataset takes 80% of the entire dataset, leaving 20% for the Test.\n",
    "features_train, features_test, target_train, target_test = train_test_split(features_sm, target_sm, test_size= .2)\n",
    "\n",
    "## Fitting our Logistic Regression model on our resampled data\n",
    "logistic_reg = LogisticRegression()\n",
    "fitted_log_model = logistic_reg.fit(features_train, target_train)\n",
    "log_predictions = fitted_log_model.predict(features_test)\n",
    "\n",
    "print(confusion_matrix(target_test, log_predictions))\n",
    "print(accuracy_score(target_test, log_predictions))"
   ]
  },
  {
   "cell_type": "code",
   "execution_count": 7,
   "metadata": {},
   "outputs": [
    {
     "name": "stdout",
     "output_type": "stream",
     "text": [
      "[0.96651601 0.99676415 0.99818863 0.99827656 0.99783691 0.99321175\n",
      " 0.99862828 0.99825897 0.99634209 0.56651953]\n",
      "0.9510542883773281\n"
     ]
    }
   ],
   "source": [
    "## Fitting our Decision Tree model on our resampled data\n",
    "\n",
    "## Using cross validation\n",
    "tree = DecisionTreeClassifier(criterion='gini')\n",
    "predictions = cross_validate(tree, features_sm, target_sm, cv=10)\n",
    "\n",
    "print(predictions['test_score'])\n",
    "print(np.mean(predictions['test_score']))\n"
   ]
  },
  {
   "cell_type": "code",
   "execution_count": 8,
   "metadata": {},
   "outputs": [
    {
     "name": "stdout",
     "output_type": "stream",
     "text": [
      "{'max_depth': 9}\n"
     ]
    }
   ],
   "source": [
    "# tune the depth of the tree to avoid overfitting\n",
    "# using param grid\n",
    "param_grid = {'max_depth': np.arange(5,10)}\n",
    "tree_mod = DecisionTreeClassifier(criterion='gini')\n",
    "tree_grid = GridSearchCV(tree_mod, param_grid=param_grid)\n",
    "tree_fitted = tree_grid.fit(features_train, target_train)\n",
    "print(tree_fitted.best_params_)\n",
    "\n",
    "predictions = tree_fitted.predict(features_test)\n",
    "\n",
    "accuracy_score = accuracy_score(target_test, predictions)\n",
    "confusion_matrix = confusion_matrix(target_test, predictions)\n"
   ]
  },
  {
   "cell_type": "code",
   "execution_count": 9,
   "metadata": {},
   "outputs": [
    {
     "name": "stdout",
     "output_type": "stream",
     "text": [
      "[[56235   681]\n",
      " [  560 56250]]\n",
      "0.9890878075374145\n"
     ]
    }
   ],
   "source": [
    "print(confusion_matrix)\n",
    "print(accuracy_score)"
   ]
  },
  {
   "cell_type": "code",
   "execution_count": 10,
   "metadata": {},
   "outputs": [
    {
     "data": {
      "text/plain": [
       "<Figure size 600x600 with 0 Axes>"
      ]
     },
     "metadata": {},
     "output_type": "display_data"
    },
    {
     "data": {
      "image/png": "[encoded data removed]",
      "text/plain": [
       "<Figure size 640x480 with 2 Axes>"
      ]
     },
     "metadata": {},
     "output_type": "display_data"
    }
   ],
   "source": [
    "## Display confusion matrix\n",
    "plt.figure(figsize=(6,6))\n",
    "cm_plot = ConfusionMatrixDisplay(confusion_matrix=confusion_matrix, \n",
    "                                 display_labels=['True', 'False'])\n",
    "cm_plot.plot()\n",
    "plt.show()"
   ]
  }
 ],
 "metadata": {
  "kernelspec": {
   "display_name": "base",
   "language": "python",
   "name": "python3"
  },
  "language_info": {
   "codemirror_mode": {
    "name": "ipython",
    "version": 3
   },
   "file_extension": ".py",
   "mimetype": "text/x-python",
   "name": "python",
   "nbconvert_exporter": "python",
   "pygments_lexer": "ipython3",
   "version": "3.10.9"
  }
 },
 "nbformat": 4,
 "nbformat_minor": 4
}
